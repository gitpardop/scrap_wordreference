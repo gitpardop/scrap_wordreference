{
 "cells": [
  {
   "cell_type": "code",
   "execution_count": 1,
   "id": "cognitive-billy",
   "metadata": {},
   "outputs": [],
   "source": [
    "from selenium import webdriver\n",
    "import pandas as pd\n",
    "import numpy as np \n",
    "import os\n",
    "from selenium.webdriver.support.ui import WebDriverWait\n",
    "from selenium.webdriver.support import expected_conditions as EC\n",
    "from selenium.webdriver.common.by import By\n",
    "import time"
   ]
  },
  {
   "cell_type": "code",
   "execution_count": 2,
   "id": "marine-sound",
   "metadata": {},
   "outputs": [],
   "source": [
    "#os.chdir('C:/Users/Usuario/Desktop/Python_v2/scraper/')"
   ]
  },
  {
   "cell_type": "code",
   "execution_count": 3,
   "id": "chronic-bikini",
   "metadata": {},
   "outputs": [],
   "source": [
    "# Opciones de navegación\n",
    "options =  webdriver.ChromeOptions()\n",
    "options.add_argument('--start-maximized')\n",
    "options.add_argument('--disable-extensions')"
   ]
  },
  {
   "cell_type": "code",
   "execution_count": 10,
   "id": "fewer-huntington",
   "metadata": {},
   "outputs": [
    {
     "name": "stderr",
     "output_type": "stream",
     "text": [
      "\n",
      "\n",
      "====== WebDriver manager ======\n",
      "Current google-chrome version is 96.0.4664\n",
      "Get LATEST chromedriver version for 96.0.4664 google-chrome\n",
      "Driver [C:\\Users\\Usuario\\.wdm\\drivers\\chromedriver\\win32\\96.0.4664.45\\chromedriver.exe] found in cache\n"
     ]
    }
   ],
   "source": [
    "from webdriver_manager.chrome import ChromeDriverManager\n",
    "# para poner la versión correcta del driver\n",
    "driver = webdriver.Chrome(ChromeDriverManager().install())"
   ]
  },
  {
   "cell_type": "code",
   "execution_count": 11,
   "id": "ambient-tuesday",
   "metadata": {},
   "outputs": [],
   "source": [
    "#driver_path = 'C:/Users/Usuario/Desktop/chromedriver_v0.exe'"
   ]
  },
  {
   "cell_type": "code",
   "execution_count": 12,
   "id": "continental-catch",
   "metadata": {},
   "outputs": [],
   "source": [
    "#driver = webdriver.Chrome(driver_path, chrome_options=options)\n"
   ]
  },
  {
   "cell_type": "code",
   "execution_count": 35,
   "id": "innovative-breathing",
   "metadata": {},
   "outputs": [],
   "source": [
    "lista_palabras = ['Marca', 'competidores'] # creamos la lisat de palabras que queremos obtener sus sinonimos\n",
    "diccionario = {'id': [1,2,3]} #creamos un diccionario que después será nuestro df, le ponemos 3 ids, porque cogeremos 3 sinónimos de cada"
   ]
  },
  {
   "cell_type": "code",
   "execution_count": 36,
   "id": "central-hospital",
   "metadata": {},
   "outputs": [
    {
     "name": "stderr",
     "output_type": "stream",
     "text": [
      "\n",
      "\n",
      "====== WebDriver manager ======\n",
      "Current google-chrome version is 96.0.4664\n",
      "Get LATEST chromedriver version for 96.0.4664 google-chrome\n",
      "Driver [C:\\Users\\Usuario\\.wdm\\drivers\\chromedriver\\win32\\96.0.4664.45\\chromedriver.exe] found in cache\n"
     ]
    }
   ],
   "source": [
    "driver = webdriver.Chrome(ChromeDriverManager().install())\n",
    "driver.get('https://www.wordreference.com/sinonimos/')\n",
    "WebDriverWait(driver, 5)\\\n",
    "    .until(EC.element_to_be_clickable((By.CSS_SELECTOR,\n",
    "                                      'button.fc-button fc-cta-consent fc-primary-button'.replace(' ', '.'))))\\\n",
    "    .click()\n",
    "\n",
    "for i in lista_palabras:\n",
    "    WebDriverWait(driver, 5)\\\n",
    "        .until(EC.element_to_be_clickable((By.CSS_SELECTOR,\n",
    "                                          'input#si')))\\\n",
    "        .send_keys(i)\n",
    "\n",
    "    WebDriverWait(driver, 5)\\\n",
    "        .until(EC.element_to_be_clickable((By.CSS_SELECTOR,\n",
    "                                          'input#searchBtn')))\\\n",
    "        .click()\n",
    "\n",
    "    WebDriverWait(driver, 5)\\\n",
    "        .until(EC.element_to_be_clickable((By.XPATH,\n",
    "                                          '/html/body/div[2]/div[2]/table/tbody/tr/td[2]/div[2]/div[1]/div[1]/ul/li[1]')))\n",
    "\n",
    "    texto_columnas = driver.find_element_by_xpath('/html/body/div[2]/div[2]/table/tbody/tr/td[2]/div[2]/div[1]/div[1]/ul/li[1]')\n",
    "    texto_columnas = texto_columnas.text\n",
    "    texto = texto_columnas.split(',')[0:3] #dividimos por comas, y nos quedamos las 3 primeras palabras\n",
    "    diccionario[i] = texto"
   ]
  },
  {
   "cell_type": "code",
   "execution_count": 30,
   "id": "italic-painting",
   "metadata": {},
   "outputs": [
    {
     "data": {
      "text/plain": [
       "['signo', ' señal', ' lema']"
      ]
     },
     "execution_count": 30,
     "metadata": {},
     "output_type": "execute_result"
    }
   ],
   "source": [
    "texto = texto_columnas.split(',')[0:3]\n",
    "texto"
   ]
  },
  {
   "cell_type": "code",
   "execution_count": 31,
   "id": "other-updating",
   "metadata": {},
   "outputs": [
    {
     "data": {
      "text/plain": [
       "{'Marca': ['signo', ' señal', ' lema']}"
      ]
     },
     "execution_count": 31,
     "metadata": {},
     "output_type": "execute_result"
    }
   ],
   "source": [
    "diccionario = {'Marca': texto}\n",
    "diccionario"
   ]
  },
  {
   "cell_type": "code",
   "execution_count": 32,
   "id": "limiting-component",
   "metadata": {},
   "outputs": [],
   "source": [
    "diccionario['prueba'] = 'toma'"
   ]
  },
  {
   "cell_type": "code",
   "execution_count": 33,
   "id": "national-rotation",
   "metadata": {},
   "outputs": [
    {
     "data": {
      "text/plain": [
       "{'Marca': ['signo', ' señal', ' lema'], 'prueba': 'toma'}"
      ]
     },
     "execution_count": 33,
     "metadata": {},
     "output_type": "execute_result"
    }
   ],
   "source": [
    "diccionario"
   ]
  },
  {
   "cell_type": "code",
   "execution_count": 38,
   "id": "talented-organic",
   "metadata": {},
   "outputs": [
    {
     "data": {
      "text/html": [
       "<div>\n",
       "<style scoped>\n",
       "    .dataframe tbody tr th:only-of-type {\n",
       "        vertical-align: middle;\n",
       "    }\n",
       "\n",
       "    .dataframe tbody tr th {\n",
       "        vertical-align: top;\n",
       "    }\n",
       "\n",
       "    .dataframe thead th {\n",
       "        text-align: right;\n",
       "    }\n",
       "</style>\n",
       "<table border=\"1\" class=\"dataframe\">\n",
       "  <thead>\n",
       "    <tr style=\"text-align: right;\">\n",
       "      <th></th>\n",
       "      <th>id</th>\n",
       "      <th>Marca</th>\n",
       "      <th>competidores</th>\n",
       "    </tr>\n",
       "  </thead>\n",
       "  <tbody>\n",
       "    <tr>\n",
       "      <th>0</th>\n",
       "      <td>1</td>\n",
       "      <td>signo</td>\n",
       "      <td>contendiente</td>\n",
       "    </tr>\n",
       "    <tr>\n",
       "      <th>1</th>\n",
       "      <td>2</td>\n",
       "      <td>señal</td>\n",
       "      <td>contrincante</td>\n",
       "    </tr>\n",
       "    <tr>\n",
       "      <th>2</th>\n",
       "      <td>3</td>\n",
       "      <td>lema</td>\n",
       "      <td>rival</td>\n",
       "    </tr>\n",
       "  </tbody>\n",
       "</table>\n",
       "</div>"
      ],
      "text/plain": [
       "   id   Marca   competidores\n",
       "0   1   signo   contendiente\n",
       "1   2   señal   contrincante\n",
       "2   3    lema          rival"
      ]
     },
     "execution_count": 38,
     "metadata": {},
     "output_type": "execute_result"
    }
   ],
   "source": [
    "pd.DataFrame(diccionario)"
   ]
  },
  {
   "cell_type": "code",
   "execution_count": 37,
   "id": "forced-compilation",
   "metadata": {},
   "outputs": [
    {
     "data": {
      "text/plain": [
       "{'id': [1, 2, 3],\n",
       " 'Marca': ['signo', ' señal', ' lema'],\n",
       " 'competidores': ['contendiente', ' contrincante', ' rival']}"
      ]
     },
     "execution_count": 37,
     "metadata": {},
     "output_type": "execute_result"
    }
   ],
   "source": [
    "diccionario"
   ]
  },
  {
   "cell_type": "code",
   "execution_count": null,
   "id": "excellent-accreditation",
   "metadata": {},
   "outputs": [],
   "source": [
    "# ahora hay que probar con una palabra que de error"
   ]
  },
  {
   "cell_type": "code",
   "execution_count": 64,
   "id": "impressive-angel",
   "metadata": {},
   "outputs": [],
   "source": [
    "\n",
    "lista_palabras = ['Marca', 'Competencia directa', 'competidores'] # creamos la lisat de palabras que queremos obtener sus sinonimos\n",
    "diccionario = {'id': [1,2,3]} #creamos un diccionario que después será nuestro df, le ponemos 3 ids, porque cogeremos 3 sinónimos de cada"
   ]
  },
  {
   "cell_type": "code",
   "execution_count": 65,
   "id": "approximate-pleasure",
   "metadata": {},
   "outputs": [
    {
     "name": "stderr",
     "output_type": "stream",
     "text": [
      "\n",
      "\n",
      "====== WebDriver manager ======\n",
      "Current google-chrome version is 96.0.4664\n",
      "Get LATEST chromedriver version for 96.0.4664 google-chrome\n",
      "Driver [C:\\Users\\Usuario\\.wdm\\drivers\\chromedriver\\win32\\96.0.4664.45\\chromedriver.exe] found in cache\n"
     ]
    }
   ],
   "source": [
    "driver = webdriver.Chrome(ChromeDriverManager().install())\n",
    "driver.get('https://www.wordreference.com/sinonimos/')\n",
    "WebDriverWait(driver, 5)\\\n",
    "    .until(EC.element_to_be_clickable((By.CSS_SELECTOR,\n",
    "                                      'button.fc-button fc-cta-consent fc-primary-button'.replace(' ', '.'))))\\\n",
    "    .click()\n",
    "\n",
    "for i in lista_palabras:\n",
    "    try: \n",
    "        WebDriverWait(driver, 5)\\\n",
    "            .until(EC.element_to_be_clickable((By.CSS_SELECTOR,\n",
    "                                              'input#si')))\\\n",
    "            .send_keys(i)\n",
    "\n",
    "        WebDriverWait(driver, 5)\\\n",
    "            .until(EC.element_to_be_clickable((By.CSS_SELECTOR,\n",
    "                                              'input#searchBtn')))\\\n",
    "            .click()\n",
    "\n",
    "        WebDriverWait(driver, 5)\\\n",
    "            .until(EC.element_to_be_clickable((By.XPATH,\n",
    "                                              '/html/body/div[2]/div[2]/table/tbody/tr/td[2]/div[2]/div[1]/div[1]/ul/li[1]')))\n",
    "    except:\n",
    "        print(i, 'no es una palabra valida')\n",
    "        WebDriverWait(driver, 5)\\\n",
    "            .until(EC.element_to_be_clickable((By.CSS_SELECTOR,\n",
    "                                              'input#si'))).clear()\n",
    "        continue\n",
    "\n",
    "    texto_columnas = driver.find_element_by_xpath('/html/body/div[2]/div[2]/table/tbody/tr/td[2]/div[2]/div[1]/div[1]/ul/li[1]')\n",
    "    texto_columnas = texto_columnas.text\n",
    "    texto = texto_columnas.split(',')[0:3] #dividimos por comas, y nos quedamos las 3 primeras palabras\n",
    "    diccionario[i] = texto"
   ]
  },
  {
   "cell_type": "code",
   "execution_count": 66,
   "id": "narrow-embassy",
   "metadata": {},
   "outputs": [
    {
     "data": {
      "text/plain": [
       "{'id': [1, 2, 3],\n",
       " 'Marca': ['signo', ' señal', ' lema'],\n",
       " 'Competencia directa': ['rivalidad', ' lucha', ' disputa'],\n",
       " 'competidores': ['contendiente', ' contrincante', ' rival']}"
      ]
     },
     "execution_count": 66,
     "metadata": {},
     "output_type": "execute_result"
    }
   ],
   "source": [
    "diccionario\n"
   ]
  },
  {
   "cell_type": "code",
   "execution_count": 67,
   "id": "rocky-chicago",
   "metadata": {},
   "outputs": [
    {
     "data": {
      "text/html": [
       "<div>\n",
       "<style scoped>\n",
       "    .dataframe tbody tr th:only-of-type {\n",
       "        vertical-align: middle;\n",
       "    }\n",
       "\n",
       "    .dataframe tbody tr th {\n",
       "        vertical-align: top;\n",
       "    }\n",
       "\n",
       "    .dataframe thead th {\n",
       "        text-align: right;\n",
       "    }\n",
       "</style>\n",
       "<table border=\"1\" class=\"dataframe\">\n",
       "  <thead>\n",
       "    <tr style=\"text-align: right;\">\n",
       "      <th></th>\n",
       "      <th>id</th>\n",
       "      <th>Marca</th>\n",
       "      <th>Competencia directa</th>\n",
       "      <th>competidores</th>\n",
       "    </tr>\n",
       "  </thead>\n",
       "  <tbody>\n",
       "    <tr>\n",
       "      <th>0</th>\n",
       "      <td>1</td>\n",
       "      <td>signo</td>\n",
       "      <td>rivalidad</td>\n",
       "      <td>contendiente</td>\n",
       "    </tr>\n",
       "    <tr>\n",
       "      <th>1</th>\n",
       "      <td>2</td>\n",
       "      <td>señal</td>\n",
       "      <td>lucha</td>\n",
       "      <td>contrincante</td>\n",
       "    </tr>\n",
       "    <tr>\n",
       "      <th>2</th>\n",
       "      <td>3</td>\n",
       "      <td>lema</td>\n",
       "      <td>disputa</td>\n",
       "      <td>rival</td>\n",
       "    </tr>\n",
       "  </tbody>\n",
       "</table>\n",
       "</div>"
      ],
      "text/plain": [
       "   id   Marca Competencia directa   competidores\n",
       "0   1   signo           rivalidad   contendiente\n",
       "1   2   señal               lucha   contrincante\n",
       "2   3    lema             disputa          rival"
      ]
     },
     "execution_count": 67,
     "metadata": {},
     "output_type": "execute_result"
    }
   ],
   "source": [
    "pd.DataFrame(diccionario)"
   ]
  },
  {
   "cell_type": "code",
   "execution_count": null,
   "id": "seeing-franchise",
   "metadata": {},
   "outputs": [],
   "source": []
  },
  {
   "cell_type": "code",
   "execution_count": null,
   "id": "adverse-transformation",
   "metadata": {},
   "outputs": [],
   "source": [
    "# y ahora lo mismo pero con un doble bucle para varios soluciones con distintos kws\n"
   ]
  },
  {
   "cell_type": "code",
   "execution_count": 124,
   "id": "logical-turtle",
   "metadata": {},
   "outputs": [],
   "source": [
    "nombre_soluciones = ['Solución A', 'Solución B']\n",
    "lista_palabras_solucion_A = ['Marca', 'Trends','Competencia directa', 'competidores'] # creamos la lista de palabras que queremos obtener sus sinonimos\n",
    "lista_palabras_solucion_B = ['Tendencia', 'Volatilidad']\n",
    "lista_soluciones = [lista_palabras_solucion_A,lista_palabras_solucion_B]\n",
    "diccionario = {'id': [1,2,3]} #creamos un diccionario que después será nuestro df, le ponemos 3 ids, porque cogeremos 3 sinónimos de cada"
   ]
  },
  {
   "cell_type": "code",
   "execution_count": null,
   "id": "compatible-style",
   "metadata": {},
   "outputs": [],
   "source": []
  },
  {
   "cell_type": "code",
   "execution_count": 125,
   "id": "quantitative-newark",
   "metadata": {},
   "outputs": [
    {
     "name": "stderr",
     "output_type": "stream",
     "text": [
      "\n",
      "\n",
      "====== WebDriver manager ======\n",
      "Current google-chrome version is 96.0.4664\n",
      "Get LATEST chromedriver version for 96.0.4664 google-chrome\n",
      "Driver [C:\\Users\\Usuario\\.wdm\\drivers\\chromedriver\\win32\\96.0.4664.45\\chromedriver.exe] found in cache\n"
     ]
    },
    {
     "name": "stdout",
     "output_type": "stream",
     "text": [
      "Trends no es una palabra valida\n",
      "Volatilidad no es una palabra valida\n"
     ]
    }
   ],
   "source": [
    "driver = webdriver.Chrome(ChromeDriverManager().install())\n",
    "driver.get('https://www.wordreference.com/sinonimos/')\n",
    "WebDriverWait(driver, 5)\\\n",
    "    .until(EC.element_to_be_clickable((By.CSS_SELECTOR,\n",
    "                                      'button.fc-button fc-cta-consent fc-primary-button'.replace(' ', '.'))))\\\n",
    "    .click()\n",
    "\n",
    "for j in lista_soluciones:\n",
    "    for i in j:\n",
    "        try: \n",
    "            WebDriverWait(driver, 5)\\\n",
    "                .until(EC.element_to_be_clickable((By.CSS_SELECTOR,\n",
    "                                                  'input#si')))\\\n",
    "                .send_keys(i)\n",
    "\n",
    "            WebDriverWait(driver, 5)\\\n",
    "                .until(EC.element_to_be_clickable((By.CSS_SELECTOR,\n",
    "                                                  'input#searchBtn')))\\\n",
    "                .click()\n",
    "\n",
    "            WebDriverWait(driver, 5)\\\n",
    "                .until(EC.element_to_be_clickable((By.XPATH,\n",
    "                                                  '/html/body/div[2]/div[2]/table/tbody/tr/td[2]/div[2]/div[1]/div[1]/ul/li[1]')))\n",
    "        except:\n",
    "            print(i, 'no es una palabra valida')\n",
    "            WebDriverWait(driver, 5)\\\n",
    "                .until(EC.element_to_be_clickable((By.CSS_SELECTOR,\n",
    "                                                  'input#si'))).clear()\n",
    "            continue\n",
    "        \n",
    "        texto_columnas = driver.find_element_by_xpath('/html/body/div[2]/div[2]/table/tbody/tr/td[2]/div[2]/div[1]/div[1]/ul/li[1]')\n",
    "        texto_columnas = texto_columnas.text\n",
    "        texto = texto_columnas.split(',')[0:3] #dividimos por comas, y nos quedamos las 3 primeras palabras\n",
    "        diccionario[i] = texto\n",
    "\n",
    "driver.quit()"
   ]
  },
  {
   "cell_type": "code",
   "execution_count": 126,
   "id": "improved-macintosh",
   "metadata": {},
   "outputs": [
    {
     "data": {
      "text/plain": [
       "{'id': [1, 2, 3],\n",
       " 'Marca': ['signo', ' señal', ' lema'],\n",
       " 'Competencia directa': ['rivalidad', ' lucha', ' disputa'],\n",
       " 'competidores': ['contendiente', ' contrincante', ' rival'],\n",
       " 'Tendencia': ['propensión', ' inclinación', ' preferencia']}"
      ]
     },
     "execution_count": 126,
     "metadata": {},
     "output_type": "execute_result"
    }
   ],
   "source": [
    "diccionario"
   ]
  },
  {
   "cell_type": "code",
   "execution_count": null,
   "id": "weird-participation",
   "metadata": {},
   "outputs": [],
   "source": []
  },
  {
   "cell_type": "code",
   "execution_count": null,
   "id": "varied-humanity",
   "metadata": {},
   "outputs": [],
   "source": []
  }
 ],
 "metadata": {
  "kernelspec": {
   "display_name": "Python 3",
   "language": "python",
   "name": "python3"
  },
  "language_info": {
   "codemirror_mode": {
    "name": "ipython",
    "version": 3
   },
   "file_extension": ".py",
   "mimetype": "text/x-python",
   "name": "python",
   "nbconvert_exporter": "python",
   "pygments_lexer": "ipython3",
   "version": "3.8.3"
  }
 },
 "nbformat": 4,
 "nbformat_minor": 5
}
